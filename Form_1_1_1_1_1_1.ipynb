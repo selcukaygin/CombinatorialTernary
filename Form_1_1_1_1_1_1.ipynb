{
 "cells": [
  {
   "cell_type": "code",
   "execution_count": 1,
   "id": "79304a47",
   "metadata": {},
   "outputs": [
    {
     "name": "stdout",
     "output_type": "stream",
     "text": [
      "#############################\n",
      "1 modulo 2\n",
      "4\n",
      "6\n",
      "48\n",
      "48\n",
      "Trying: 0\n",
      "The transformations are:\n",
      "----------------------------------\n",
      "[-1  0 -1]\n",
      "[ 0 -1  1]\n",
      "[ 0  1  1]\n",
      "----------------------------------\n",
      "[-1 -1 -1]\n",
      "[ 0  0  1]\n",
      "[ 1  0  0]\n",
      "----------------------------------\n",
      "[-1 -1 -1]\n",
      "[ 0  1  0]\n",
      "[ 0  0  1]\n",
      "----------------------------------\n",
      "[-1/2 -1/2   -1]\n",
      "[-1/2  1/2    0]\n",
      "[ 1/2  1/2    0]\n"
     ]
    }
   ],
   "source": [
    "%run CombinatorialTernaryFunctions.ipynb\n",
    "\n",
    "parts=3\n",
    "t1=1\n",
    "\n",
    "for MM in [[1,2]]:\n",
    "    m1=MM[0]\n",
    "    M1=MM[1]\n",
    "    print('#############################')\n",
    "    print(m1,'modulo',M1)\n",
    "    f2=[1,1,1,1,1,1] \n",
    "    f1=[1,1,2,0,0,0]\n",
    "    k=4\n",
    "    m2=m1*t1\n",
    "    M2=M1*t1\n",
    "\n",
    "    F1=SetFinder(M1,m1,f1,prim=1)\n",
    "    print(len(F1))\n",
    "\n",
    "    F2=SetFinder(M2,m2,f2,prim=1)\n",
    "    print(len(F2))\n",
    "\n",
    "    if len(F1)==0 and len(F2)==0:\n",
    "        print('Both are zeros!')\n",
    "\n",
    "\n",
    "    if len(F1)>0 and len(F2)>0:\n",
    "        result=TRS_Find(f1,m1,M1,f2,k,t1,F1,F2,parts)\n",
    "        print('The transformations are:')\n",
    "        for T in result:\n",
    "            print('----------------------------------')\n",
    "            print(T)"
   ]
  },
  {
   "cell_type": "code",
   "execution_count": 2,
   "id": "8a829efa",
   "metadata": {},
   "outputs": [
    {
     "name": "stdout",
     "output_type": "stream",
     "text": [
      "#############################\n",
      "2 modulo 4\n",
      "8\n",
      "16\n",
      "48\n",
      "48\n",
      "Trying: 0\n",
      "The transformations are:\n",
      "----------------------------------\n",
      "[  -1 -1/2 -1/2]\n",
      "[   0 -1/2  1/2]\n",
      "[   0 -1/2 -1/2]\n",
      "----------------------------------\n",
      "[-1  0  1]\n",
      "[ 0 -1 -1]\n",
      "[ 0  1 -1]\n"
     ]
    }
   ],
   "source": [
    "%run CombinatorialTernaryFunctions.ipynb\n",
    "\n",
    "parts=1\n",
    "t1=1\n",
    "\n",
    "for MM in [[2,4]]:\n",
    "    m1=MM[0]\n",
    "    M1=MM[1]\n",
    "    print('#############################')\n",
    "    print(m1,'modulo',M1)\n",
    "    f1=[1,1,1,1,1,1] \n",
    "    f2=[1,1,2,0,0,0]\n",
    "    k=4\n",
    "    m2=m1*t1\n",
    "    M2=M1*t1\n",
    "\n",
    "    F1=SetFinder(M1,m1,f1,prim=1)\n",
    "    print(len(F1))\n",
    "\n",
    "    F2=SetFinder(M2,m2,f2,prim=1)\n",
    "    print(len(F2))\n",
    "\n",
    "    if len(F1)==0 and len(F2)==0:\n",
    "        print('Both are zeros!')\n",
    "\n",
    "\n",
    "    if len(F1)>0 and len(F2)>0:\n",
    "        result=TRS_Find(f1,m1,M1,f2,k,t1,F1,F2,parts)\n",
    "        print('The transformations are:')\n",
    "        for T in result:\n",
    "            print('----------------------------------')\n",
    "            print(T)"
   ]
  },
  {
   "cell_type": "code",
   "execution_count": 3,
   "id": "ec544056",
   "metadata": {},
   "outputs": [
    {
     "name": "stdout",
     "output_type": "stream",
     "text": [
      "if 0 modulo 4 then 0\n"
     ]
    }
   ],
   "source": [
    "%run CombinatorialTernaryFunctions.ipynb\n",
    "f1=[1,1,1,1,1,1] \n",
    "for MM in [[0,4]]:\n",
    "    m1=MM[0]\n",
    "    M1=MM[1]\n",
    "    F1=SetFinder(M1,m1,f1,prim=1)\n",
    "    print('if',m1,'modulo',M1,'then',len(F1))  "
   ]
  },
  {
   "cell_type": "code",
   "execution_count": null,
   "id": "f3c9a85d",
   "metadata": {},
   "outputs": [],
   "source": []
  }
 ],
 "metadata": {
  "kernelspec": {
   "display_name": "SageMath 9.6",
   "language": "sage",
   "name": "sagemath-9.6"
  },
  "language_info": {
   "codemirror_mode": {
    "name": "ipython",
    "version": 3
   },
   "file_extension": ".py",
   "mimetype": "text/x-python",
   "name": "python",
   "nbconvert_exporter": "python",
   "pygments_lexer": "ipython3",
   "version": "3.10.3"
  }
 },
 "nbformat": 4,
 "nbformat_minor": 5
}
